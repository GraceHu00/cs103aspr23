{
 "cells": [
  {
   "cell_type": "markdown",
   "metadata": {},
   "source": [
    "# Demo of Jupyter lab\n",
    "* text uses markdown\n",
    "* code will be in Python\n",
    "\n",
    "... python\n",
    "\n",
    "def hello():\n",
    "    print('hola!')"
   ]
  },
  {
   "cell_type": "code",
   "execution_count": 1,
   "metadata": {},
   "outputs": [
    {
     "name": "stdout",
     "output_type": "stream",
     "text": [
      "hola!\n",
      "hola!\n",
      "hola!\n",
      "hola!\n",
      "hola!\n",
      "hola!\n",
      "hola!\n",
      "hola!\n",
      "hola!\n",
      "hola!\n"
     ]
    }
   ],
   "source": [
    "def hello():\n",
    "    print('hola!')\n",
    "for i in range(10):\n",
    "    hello()"
   ]
  },
  {
   "cell_type": "raw",
   "metadata": {},
   "source": [
    "# this is raw\n",
    "it can't be executed and it is not markdown!"
   ]
  },
  {
   "cell_type": "markdown",
   "metadata": {},
   "source": [
    "The previous line shows how to run a function in a loop and print text to the notebook!"
   ]
  },
  {
   "cell_type": "code",
   "execution_count": null,
   "metadata": {},
   "outputs": [],
   "source": []
  }
 ],
 "metadata": {
  "kernelspec": {
   "display_name": "Python 3",
   "language": "python",
   "name": "python3"
  },
  "language_info": {
   "codemirror_mode": {
    "name": "ipython",
    "version": 3
   },
   "file_extension": ".py",
   "mimetype": "text/x-python",
   "name": "python",
   "nbconvert_exporter": "python",
   "pygments_lexer": "ipython3",
   "version": "3.7.4"
  }
 },
 "nbformat": 4,
 "nbformat_minor": 4
}
